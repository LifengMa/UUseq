{
 "cells": [
  {
   "cell_type": "code",
   "execution_count": 1,
   "id": "98b910fd",
   "metadata": {},
   "outputs": [
    {
     "name": "stdout",
     "output_type": "stream",
     "text": [
      "Running scvelo 0.2.5 (python 3.9.12) on 2023-04-25 07:33.\n"
     ]
    },
    {
     "name": "stderr",
     "output_type": "stream",
     "text": [
      "ERROR: XMLRPC request failed [code: -32500]\n",
      "RuntimeError: PyPI no longer supports 'pip search' (or XML-RPC search). Please use https://pypi.org/search (via a browser) instead. See https://warehouse.pypa.io/api-reference/xml-rpc.html#deprecated-methods for more information.\n"
     ]
    }
   ],
   "source": [
    "import scvelo as scv\n",
    "import scanpy as sc\n",
    "import glob\n",
    "import pandas as pd\n",
    "import numpy as np\n",
    "from scipy import sparse, stats\n",
    "from anndata import AnnData\n",
    "scv.logging.print_version()\n",
    "scv.settings.verbosity = 3  # show errors(0), warnings(1), info(2), hints(3)\n",
    "scv.settings.set_figure_params('scvelo')  # for beautified visualization\n",
    "scv.settings.set_figure_params('scvelo')"
   ]
  },
  {
   "cell_type": "code",
   "execution_count": 2,
   "id": "981aabac",
   "metadata": {},
   "outputs": [],
   "source": [
    "scv.settings.verbosity = 3  # show errors(0), warnings(1), info(2), hints(3)\n",
    "scv.settings.set_figure_params('scvelo')  # for beautified visualization\n",
    "scv.settings.set_figure_params('scvelo')"
   ]
  },
  {
   "cell_type": "code",
   "execution_count": 8,
   "id": "76b491a1",
   "metadata": {},
   "outputs": [
    {
     "data": {
      "text/plain": [
       "['../../velocity/output/E100063259/loom/col81.loom',\n",
       " '../../velocity/output/E100063259/loom/col103.loom',\n",
       " '../../velocity/output/E100063259/loom/col70.loom',\n",
       " '../../velocity/output/E100063259/loom/col83.loom',\n",
       " '../../velocity/output/E100063259/loom/col97.loom',\n",
       " '../../velocity/output/E100063259/loom/col126.loom',\n",
       " '../../velocity/output/E100063259/loom/col125.loom',\n",
       " '../../velocity/output/E100063259/loom/col124.loom',\n",
       " '../../velocity/output/E100063259/loom/col65.loom',\n",
       " '../../velocity/output/E100063259/loom/col66.loom',\n",
       " '../../velocity/output/E100063259/loom/col102.loom',\n",
       " '../../velocity/output/E100063259/loom/col67.loom',\n",
       " '../../velocity/output/E100063259/loom/col82.loom',\n",
       " '../../velocity/output/E100063259/loom/col122.loom',\n",
       " '../../velocity/output/E100063259/loom/col91.loom',\n",
       " '../../velocity/output/E100063259/loom/col121.loom',\n",
       " '../../velocity/output/E100063259/loom/col90.loom',\n",
       " '../../velocity/output/E100063259/loom/col72.loom',\n",
       " '../../velocity/output/E100063259/loom/col89.loom',\n",
       " '../../velocity/output/E100063259/loom/col84.loom',\n",
       " '../../velocity/output/E100063259/loom/col69.loom',\n",
       " '../../velocity/output/E100063259/loom/col92.loom',\n",
       " '../../velocity/output/E100063259/loom/col93.loom',\n",
       " '../../velocity/output/E100063259/loom/col95.loom',\n",
       " '../../velocity/output/E100063259/loom/col127.loom',\n",
       " '../../velocity/output/E100063259/loom/col100.loom',\n",
       " '../../velocity/output/E100063259/loom/col99.loom',\n",
       " '../../velocity/output/E100063259/loom/col101.loom',\n",
       " '../../velocity/output/E100063259/loom/col104.loom',\n",
       " '../../velocity/output/E100063259/loom/col94.loom',\n",
       " '../../velocity/output/E100063259/loom/col71.loom',\n",
       " '../../velocity/output/E100063259/loom/col98.loom',\n",
       " '../../velocity/output/E100063259/loom/col68.loom',\n",
       " '../../velocity/output/E100063259/loom/col123.loom']"
      ]
     },
     "execution_count": 8,
     "metadata": {},
     "output_type": "execute_result"
    }
   ],
   "source": [
    "loomf=glob.glob(\"../../velocity/output/E100063259/loom/*\")\n",
    "loomf"
   ]
  },
  {
   "cell_type": "code",
   "execution_count": 4,
   "id": "2091f621",
   "metadata": {},
   "outputs": [],
   "source": [
    "ldata=scv.read(loomf[0], cache=True)"
   ]
  },
  {
   "cell_type": "code",
   "execution_count": 5,
   "id": "53d5b659",
   "metadata": {},
   "outputs": [],
   "source": [
    "ldata.var_names_make_unique()"
   ]
  },
  {
   "cell_type": "code",
   "execution_count": 6,
   "id": "d778d2d7",
   "metadata": {},
   "outputs": [],
   "source": [
    "ldata.obs.index=ldata.obs['cellID']"
   ]
  },
  {
   "cell_type": "code",
   "execution_count": 9,
   "id": "97837268",
   "metadata": {},
   "outputs": [
    {
     "data": {
      "text/plain": [
       "['../../velocity/output/E100063259/loom/col103.loom',\n",
       " '../../velocity/output/E100063259/loom/col70.loom',\n",
       " '../../velocity/output/E100063259/loom/col83.loom',\n",
       " '../../velocity/output/E100063259/loom/col97.loom',\n",
       " '../../velocity/output/E100063259/loom/col126.loom',\n",
       " '../../velocity/output/E100063259/loom/col125.loom',\n",
       " '../../velocity/output/E100063259/loom/col124.loom',\n",
       " '../../velocity/output/E100063259/loom/col65.loom',\n",
       " '../../velocity/output/E100063259/loom/col66.loom',\n",
       " '../../velocity/output/E100063259/loom/col102.loom',\n",
       " '../../velocity/output/E100063259/loom/col67.loom',\n",
       " '../../velocity/output/E100063259/loom/col82.loom',\n",
       " '../../velocity/output/E100063259/loom/col122.loom',\n",
       " '../../velocity/output/E100063259/loom/col91.loom',\n",
       " '../../velocity/output/E100063259/loom/col121.loom',\n",
       " '../../velocity/output/E100063259/loom/col90.loom',\n",
       " '../../velocity/output/E100063259/loom/col72.loom',\n",
       " '../../velocity/output/E100063259/loom/col89.loom',\n",
       " '../../velocity/output/E100063259/loom/col84.loom',\n",
       " '../../velocity/output/E100063259/loom/col69.loom',\n",
       " '../../velocity/output/E100063259/loom/col92.loom',\n",
       " '../../velocity/output/E100063259/loom/col93.loom',\n",
       " '../../velocity/output/E100063259/loom/col95.loom',\n",
       " '../../velocity/output/E100063259/loom/col127.loom',\n",
       " '../../velocity/output/E100063259/loom/col100.loom',\n",
       " '../../velocity/output/E100063259/loom/col99.loom',\n",
       " '../../velocity/output/E100063259/loom/col101.loom',\n",
       " '../../velocity/output/E100063259/loom/col104.loom',\n",
       " '../../velocity/output/E100063259/loom/col94.loom',\n",
       " '../../velocity/output/E100063259/loom/col71.loom',\n",
       " '../../velocity/output/E100063259/loom/col98.loom',\n",
       " '../../velocity/output/E100063259/loom/col68.loom',\n",
       " '../../velocity/output/E100063259/loom/col123.loom']"
      ]
     },
     "execution_count": 9,
     "metadata": {},
     "output_type": "execute_result"
    }
   ],
   "source": [
    "loomf=loomf[1:40]\n",
    "loomf"
   ]
  },
  {
   "cell_type": "code",
   "execution_count": 10,
   "id": "011afb79",
   "metadata": {
    "scrolled": true
   },
   "outputs": [],
   "source": [
    "for loom in loomf:\n",
    "    ldata1=scv.read(loom, cache=True)\n",
    "    ldata1.var_names_make_unique()\n",
    "    ldata1.obs.index=ldata1.obs['cellID']\n",
    "    ldata=ldata.concatenate(ldata1)"
   ]
  },
  {
   "cell_type": "code",
   "execution_count": 11,
   "id": "3378bcb0",
   "metadata": {},
   "outputs": [
    {
     "data": {
      "text/plain": [
       "AnnData object with n_obs × n_vars = 62390 × 50686\n",
       "    obs: 'cellID', 'batch'\n",
       "    var: 'Accession', 'Chromosome', 'End', 'Start', 'Strand'\n",
       "    layers: 'matrix', 'ambiguous', 'spliced', 'unspliced'"
      ]
     },
     "execution_count": 11,
     "metadata": {},
     "output_type": "execute_result"
    }
   ],
   "source": [
    "ldata"
   ]
  },
  {
   "cell_type": "code",
   "execution_count": 13,
   "id": "c06af7cf",
   "metadata": {},
   "outputs": [],
   "source": [
    "ldata.write_h5ad(\"../../velocity/ovary/RNAvelocity_data.h5ad\")"
   ]
  },
  {
   "cell_type": "code",
   "execution_count": 14,
   "id": "fa1b4b5c",
   "metadata": {},
   "outputs": [],
   "source": [
    "ldata=sc.read(\"../../velocity/ovary/RNAvelocity_data.h5ad\")"
   ]
  },
  {
   "cell_type": "code",
   "execution_count": 15,
   "id": "4bdafa36",
   "metadata": {},
   "outputs": [
    {
     "data": {
      "text/plain": [
       "cellID\n",
       "col81.AAGTCTTCCGACGGCAATGGGCCATTCTCC     0\n",
       "col81.AAGTCTTCCGAGTAAGCATAAGAGCTATAA     0\n",
       "col81.AAGTCTTCCGAATAGGTTGTGATACGGAAC     0\n",
       "col81.AAGTCTTCCGATCAGCAAGTGGTACTGCCT     0\n",
       "col81.AAGTCTTCCGAGTAAGCATACTAAGAGAAG     0\n",
       "                                        ..\n",
       "col123.TGAAGCGTTGCAACCAGTACTTGCGAGGCA    1\n",
       "col123.TGAAGCGTTGGTAATGATCGTCTTGCCGAC    1\n",
       "col123.TGAAGCGTTGTTGGTAGGCGTTGCGAGGCA    1\n",
       "col123.TGAAGCGTTGTTGGACGCTGCGCCTAATGC    1\n",
       "col123.TGAAGCGTTGTTGACTGACGGAGCATATGG    1\n",
       "Name: batch, Length: 62390, dtype: category\n",
       "Categories (2, object): ['0', '1']"
      ]
     },
     "execution_count": 15,
     "metadata": {},
     "output_type": "execute_result"
    }
   ],
   "source": [
    "ldata.obs.batch"
   ]
  },
  {
   "cell_type": "code",
   "execution_count": 16,
   "id": "998efc53",
   "metadata": {
    "scrolled": true
   },
   "outputs": [
    {
     "data": {
      "text/html": [
       "<div>\n",
       "<style scoped>\n",
       "    .dataframe tbody tr th:only-of-type {\n",
       "        vertical-align: middle;\n",
       "    }\n",
       "\n",
       "    .dataframe tbody tr th {\n",
       "        vertical-align: top;\n",
       "    }\n",
       "\n",
       "    .dataframe thead th {\n",
       "        text-align: right;\n",
       "    }\n",
       "</style>\n",
       "<table border=\"1\" class=\"dataframe\">\n",
       "  <thead>\n",
       "    <tr style=\"text-align: right;\">\n",
       "      <th></th>\n",
       "      <th>batch</th>\n",
       "    </tr>\n",
       "    <tr>\n",
       "      <th>cellID</th>\n",
       "      <th></th>\n",
       "    </tr>\n",
       "  </thead>\n",
       "  <tbody>\n",
       "    <tr>\n",
       "      <th>col81.AAGTCTTCCGACGGCAATGGGCCATTCTCC</th>\n",
       "      <td>0</td>\n",
       "    </tr>\n",
       "    <tr>\n",
       "      <th>col81.AAGTCTTCCGAGTAAGCATAAGAGCTATAA</th>\n",
       "      <td>0</td>\n",
       "    </tr>\n",
       "    <tr>\n",
       "      <th>col81.AAGTCTTCCGAATAGGTTGTGATACGGAAC</th>\n",
       "      <td>0</td>\n",
       "    </tr>\n",
       "    <tr>\n",
       "      <th>col81.AAGTCTTCCGATCAGCAAGTGGTACTGCCT</th>\n",
       "      <td>0</td>\n",
       "    </tr>\n",
       "    <tr>\n",
       "      <th>col81.AAGTCTTCCGAGTAAGCATACTAAGAGAAG</th>\n",
       "      <td>0</td>\n",
       "    </tr>\n",
       "    <tr>\n",
       "      <th>...</th>\n",
       "      <td>...</td>\n",
       "    </tr>\n",
       "    <tr>\n",
       "      <th>col123.TGAAGCGTTGCAACCAGTACTTGCGAGGCA</th>\n",
       "      <td>1</td>\n",
       "    </tr>\n",
       "    <tr>\n",
       "      <th>col123.TGAAGCGTTGGTAATGATCGTCTTGCCGAC</th>\n",
       "      <td>1</td>\n",
       "    </tr>\n",
       "    <tr>\n",
       "      <th>col123.TGAAGCGTTGTTGGTAGGCGTTGCGAGGCA</th>\n",
       "      <td>1</td>\n",
       "    </tr>\n",
       "    <tr>\n",
       "      <th>col123.TGAAGCGTTGTTGGACGCTGCGCCTAATGC</th>\n",
       "      <td>1</td>\n",
       "    </tr>\n",
       "    <tr>\n",
       "      <th>col123.TGAAGCGTTGTTGACTGACGGAGCATATGG</th>\n",
       "      <td>1</td>\n",
       "    </tr>\n",
       "  </tbody>\n",
       "</table>\n",
       "<p>62390 rows × 1 columns</p>\n",
       "</div>"
      ],
      "text/plain": [
       "                                      batch\n",
       "cellID                                     \n",
       "col81.AAGTCTTCCGACGGCAATGGGCCATTCTCC      0\n",
       "col81.AAGTCTTCCGAGTAAGCATAAGAGCTATAA      0\n",
       "col81.AAGTCTTCCGAATAGGTTGTGATACGGAAC      0\n",
       "col81.AAGTCTTCCGATCAGCAAGTGGTACTGCCT      0\n",
       "col81.AAGTCTTCCGAGTAAGCATACTAAGAGAAG      0\n",
       "...                                     ...\n",
       "col123.TGAAGCGTTGCAACCAGTACTTGCGAGGCA     1\n",
       "col123.TGAAGCGTTGGTAATGATCGTCTTGCCGAC     1\n",
       "col123.TGAAGCGTTGTTGGTAGGCGTTGCGAGGCA     1\n",
       "col123.TGAAGCGTTGTTGGACGCTGCGCCTAATGC     1\n",
       "col123.TGAAGCGTTGTTGACTGACGGAGCATATGG     1\n",
       "\n",
       "[62390 rows x 1 columns]"
      ]
     },
     "execution_count": 16,
     "metadata": {},
     "output_type": "execute_result"
    }
   ],
   "source": [
    "index=ldata.obs.batch\n",
    "index=pd.DataFrame(index)\n",
    "index"
   ]
  },
  {
   "cell_type": "code",
   "execution_count": 10,
   "id": "d420031c",
   "metadata": {},
   "outputs": [],
   "source": [
    "#index.to_csv(\"./velocity_index.csv\")"
   ]
  },
  {
   "cell_type": "code",
   "execution_count": 17,
   "id": "d142148d",
   "metadata": {},
   "outputs": [],
   "source": [
    "adata=sc.read_h5ad(\"../../velocity/ovary/ovary.h5ad\")"
   ]
  },
  {
   "cell_type": "code",
   "execution_count": 18,
   "id": "32e0e1a4",
   "metadata": {},
   "outputs": [
    {
     "data": {
      "text/plain": [
       "AnnData object with n_obs × n_vars = 69327 × 1995\n",
       "    obs: 'orig.ident', 'nCount_RNA', 'nFeature_RNA', 'RT', 'sample', 'tissue', 'barcode', 'reads', 'type', 'index', 'ident', 'scDblFinder.class', 'scDblFinder.score', 'scDblFinder.weighted', 'scDblFinder.cxds_score', 'percent.mt', 'RNA_snn_res.0.8', 'seurat_clusters', 'RNA_snn_res.0.7', 'RNA_snn_res.0.6', 'type1', 'celltype'\n",
       "    var: 'vst.mean', 'vst.variance', 'vst.variance.expected', 'vst.variance.standardized', 'vst.variable'\n",
       "    uns: 'neighbors'\n",
       "    obsm: 'X_pca', 'X_tSNE', 'X_umap'\n",
       "    varm: 'PCs'\n",
       "    obsp: 'distances'"
      ]
     },
     "execution_count": 18,
     "metadata": {},
     "output_type": "execute_result"
    }
   ],
   "source": [
    "adata"
   ]
  },
  {
   "cell_type": "code",
   "execution_count": 20,
   "id": "2fc84f93",
   "metadata": {},
   "outputs": [],
   "source": [
    "scv.utils.clean_obs_names(adata)"
   ]
  },
  {
   "cell_type": "code",
   "execution_count": 21,
   "id": "fe8ec51b",
   "metadata": {},
   "outputs": [],
   "source": [
    "scv.utils.clean_obs_names(ldata)"
   ]
  },
  {
   "cell_type": "code",
   "execution_count": 22,
   "id": "1b830926",
   "metadata": {},
   "outputs": [],
   "source": [
    "adata = scv.utils.merge(adata,ldata)"
   ]
  },
  {
   "cell_type": "code",
   "execution_count": 23,
   "id": "e92d6ec3",
   "metadata": {},
   "outputs": [
    {
     "data": {
      "text/plain": [
       "AnnData object with n_obs × n_vars = 4554 × 1995\n",
       "    obs: 'orig.ident', 'nCount_RNA', 'nFeature_RNA', 'RT', 'sample', 'tissue', 'barcode', 'reads', 'type', 'index', 'ident', 'scDblFinder.class', 'scDblFinder.score', 'scDblFinder.weighted', 'scDblFinder.cxds_score', 'percent.mt', 'RNA_snn_res.0.8', 'seurat_clusters', 'RNA_snn_res.0.7', 'RNA_snn_res.0.6', 'type1', 'celltype', 'sample_batch', 'cellID', 'batch', 'initial_size_unspliced', 'initial_size_spliced', 'initial_size'\n",
       "    var: 'vst.mean', 'vst.variance', 'vst.variance.expected', 'vst.variance.standardized', 'vst.variable', 'Accession', 'Chromosome', 'End', 'Start', 'Strand'\n",
       "    uns: 'neighbors'\n",
       "    obsm: 'X_pca', 'X_tSNE', 'X_umap'\n",
       "    varm: 'PCs'\n",
       "    layers: 'ambiguous', 'matrix', 'spliced', 'unspliced'\n",
       "    obsp: 'distances'"
      ]
     },
     "execution_count": 23,
     "metadata": {},
     "output_type": "execute_result"
    }
   ],
   "source": [
    "adata"
   ]
  },
  {
   "cell_type": "code",
   "execution_count": 24,
   "id": "ff958bb0",
   "metadata": {
    "scrolled": true
   },
   "outputs": [],
   "source": [
    "adata.write(\"../../velocity/ovary/adata_mini_strict_test.h5ad\")"
   ]
  },
  {
   "cell_type": "code",
   "execution_count": null,
   "id": "7aeca4d8",
   "metadata": {},
   "outputs": [],
   "source": []
  }
 ],
 "metadata": {
  "kernelspec": {
   "display_name": "Python 3 (ipykernel)",
   "language": "python",
   "name": "python3"
  },
  "language_info": {
   "codemirror_mode": {
    "name": "ipython",
    "version": 3
   },
   "file_extension": ".py",
   "mimetype": "text/x-python",
   "name": "python",
   "nbconvert_exporter": "python",
   "pygments_lexer": "ipython3",
   "version": "3.9.12"
  }
 },
 "nbformat": 4,
 "nbformat_minor": 5
}
